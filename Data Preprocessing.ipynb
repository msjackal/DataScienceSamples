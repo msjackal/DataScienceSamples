{
 "cells": [
  {
   "cell_type": "code",
   "execution_count": 2,
   "metadata": {},
   "outputs": [],
   "source": [
    "import pandas as pd\n",
    "import numpy as np"
   ]
  },
  {
   "cell_type": "code",
   "execution_count": 85,
   "metadata": {},
   "outputs": [],
   "source": [
    "dataset = {\"İsim\" : [\"Murat\", \"Aslı\", \"Mehmet\", \"Mert\"],\n",
    "          \"Soyad\" : [\"Sakal\", \"Sakal\", \"Mavi\", \"Noyan\"],\n",
    "          \"Yaş\" : [45,37, \"bilinmiyor\", 37],\n",
    "          \"Şehir\" : [\"Muğla\", \"Muğla\", np.nan, \"İzmir\"],\n",
    "          \"Ülke\": [\"Türkiye\",\"Türkiye\",\"Türkiye\",\"Türkiye\"],\n",
    "          \"GANO\" : [np.nan, np.nan, 3.9, np.nan]}"
   ]
  },
  {
   "cell_type": "code",
   "execution_count": 94,
   "metadata": {},
   "outputs": [],
   "source": [
    "df = pd.DataFrame(dataset)"
   ]
  },
  {
   "cell_type": "code",
   "execution_count": 95,
   "metadata": {
    "scrolled": true
   },
   "outputs": [
    {
     "data": {
      "text/html": [
       "<div>\n",
       "<style scoped>\n",
       "    .dataframe tbody tr th:only-of-type {\n",
       "        vertical-align: middle;\n",
       "    }\n",
       "\n",
       "    .dataframe tbody tr th {\n",
       "        vertical-align: top;\n",
       "    }\n",
       "\n",
       "    .dataframe thead th {\n",
       "        text-align: right;\n",
       "    }\n",
       "</style>\n",
       "<table border=\"1\" class=\"dataframe\">\n",
       "  <thead>\n",
       "    <tr style=\"text-align: right;\">\n",
       "      <th></th>\n",
       "      <th>İsim</th>\n",
       "      <th>Soyad</th>\n",
       "      <th>Yaş</th>\n",
       "      <th>Şehir</th>\n",
       "      <th>Ülke</th>\n",
       "      <th>GANO</th>\n",
       "    </tr>\n",
       "  </thead>\n",
       "  <tbody>\n",
       "    <tr>\n",
       "      <th>0</th>\n",
       "      <td>Murat</td>\n",
       "      <td>Sakal</td>\n",
       "      <td>45</td>\n",
       "      <td>Muğla</td>\n",
       "      <td>Türkiye</td>\n",
       "      <td>NaN</td>\n",
       "    </tr>\n",
       "    <tr>\n",
       "      <th>1</th>\n",
       "      <td>Aslı</td>\n",
       "      <td>Sakal</td>\n",
       "      <td>37</td>\n",
       "      <td>Muğla</td>\n",
       "      <td>Türkiye</td>\n",
       "      <td>NaN</td>\n",
       "    </tr>\n",
       "    <tr>\n",
       "      <th>2</th>\n",
       "      <td>Mehmet</td>\n",
       "      <td>Mavi</td>\n",
       "      <td>bilinmiyor</td>\n",
       "      <td>NaN</td>\n",
       "      <td>Türkiye</td>\n",
       "      <td>3.9</td>\n",
       "    </tr>\n",
       "    <tr>\n",
       "      <th>3</th>\n",
       "      <td>Mert</td>\n",
       "      <td>Noyan</td>\n",
       "      <td>37</td>\n",
       "      <td>İzmir</td>\n",
       "      <td>Türkiye</td>\n",
       "      <td>NaN</td>\n",
       "    </tr>\n",
       "  </tbody>\n",
       "</table>\n",
       "</div>"
      ],
      "text/plain": [
       "     İsim  Soyad         Yaş  Şehir     Ülke  GANO\n",
       "0   Murat  Sakal          45  Muğla  Türkiye   NaN\n",
       "1    Aslı  Sakal          37  Muğla  Türkiye   NaN\n",
       "2  Mehmet   Mavi  bilinmiyor    NaN  Türkiye   3.9\n",
       "3    Mert  Noyan          37  İzmir  Türkiye   NaN"
      ]
     },
     "execution_count": 95,
     "metadata": {},
     "output_type": "execute_result"
    }
   ],
   "source": [
    "df"
   ]
  },
  {
   "cell_type": "code",
   "execution_count": 6,
   "metadata": {},
   "outputs": [
    {
     "name": "stdout",
     "output_type": "stream",
     "text": [
      "<class 'pandas.core.frame.DataFrame'>\n",
      "RangeIndex: 4 entries, 0 to 3\n",
      "Data columns (total 6 columns):\n",
      " #   Column  Non-Null Count  Dtype  \n",
      "---  ------  --------------  -----  \n",
      " 0   İsim    4 non-null      object \n",
      " 1   Soyad   4 non-null      object \n",
      " 2   Yaş     4 non-null      object \n",
      " 3   Şehir   3 non-null      object \n",
      " 4   Ülke    4 non-null      object \n",
      " 5   GANO    1 non-null      float64\n",
      "dtypes: float64(1), object(5)\n",
      "memory usage: 320.0+ bytes\n"
     ]
    }
   ],
   "source": [
    "df.info()"
   ]
  },
  {
   "cell_type": "code",
   "execution_count": 7,
   "metadata": {
    "scrolled": false
   },
   "outputs": [
    {
     "data": {
      "text/plain": [
       "4"
      ]
     },
     "execution_count": 7,
     "metadata": {},
     "output_type": "execute_result"
    }
   ],
   "source": [
    "df.isna().sum().sum() #boş değerlerinin toplamını verir. isna ise true false olarak boş yerleri gösterir"
   ]
  },
  {
   "cell_type": "code",
   "execution_count": 66,
   "metadata": {},
   "outputs": [
    {
     "data": {
      "text/html": [
       "<div>\n",
       "<style scoped>\n",
       "    .dataframe tbody tr th:only-of-type {\n",
       "        vertical-align: middle;\n",
       "    }\n",
       "\n",
       "    .dataframe tbody tr th {\n",
       "        vertical-align: top;\n",
       "    }\n",
       "\n",
       "    .dataframe thead th {\n",
       "        text-align: right;\n",
       "    }\n",
       "</style>\n",
       "<table border=\"1\" class=\"dataframe\">\n",
       "  <thead>\n",
       "    <tr style=\"text-align: right;\">\n",
       "      <th></th>\n",
       "      <th>İsim</th>\n",
       "      <th>Soyad</th>\n",
       "      <th>Yaş</th>\n",
       "      <th>Şehir</th>\n",
       "      <th>Ülke</th>\n",
       "    </tr>\n",
       "  </thead>\n",
       "  <tbody>\n",
       "    <tr>\n",
       "      <th>0</th>\n",
       "      <td>Murat</td>\n",
       "      <td>Sakal</td>\n",
       "      <td>45</td>\n",
       "      <td>Muğla</td>\n",
       "      <td>Türkiye</td>\n",
       "    </tr>\n",
       "    <tr>\n",
       "      <th>1</th>\n",
       "      <td>Aslı</td>\n",
       "      <td>Sakal</td>\n",
       "      <td>37</td>\n",
       "      <td>Muğla</td>\n",
       "      <td>Türkiye</td>\n",
       "    </tr>\n",
       "    <tr>\n",
       "      <th>2</th>\n",
       "      <td>Mehmet</td>\n",
       "      <td>Mavi</td>\n",
       "      <td>bilinmiyor</td>\n",
       "      <td>NaN</td>\n",
       "      <td>Türkiye</td>\n",
       "    </tr>\n",
       "    <tr>\n",
       "      <th>3</th>\n",
       "      <td>Mert</td>\n",
       "      <td>Noyan</td>\n",
       "      <td>22</td>\n",
       "      <td>İzmir</td>\n",
       "      <td>Türkiye</td>\n",
       "    </tr>\n",
       "  </tbody>\n",
       "</table>\n",
       "</div>"
      ],
      "text/plain": [
       "     İsim  Soyad         Yaş  Şehir     Ülke\n",
       "0   Murat  Sakal          45  Muğla  Türkiye\n",
       "1    Aslı  Sakal          37  Muğla  Türkiye\n",
       "2  Mehmet   Mavi  bilinmiyor    NaN  Türkiye\n",
       "3    Mert  Noyan          22  İzmir  Türkiye"
      ]
     },
     "execution_count": 66,
     "metadata": {},
     "output_type": "execute_result"
    }
   ],
   "source": [
    "df.dropna(axis=1, how=\"any\", thresh=3)"
   ]
  },
  {
   "cell_type": "code",
   "execution_count": 67,
   "metadata": {},
   "outputs": [
    {
     "data": {
      "text/html": [
       "<div>\n",
       "<style scoped>\n",
       "    .dataframe tbody tr th:only-of-type {\n",
       "        vertical-align: middle;\n",
       "    }\n",
       "\n",
       "    .dataframe tbody tr th {\n",
       "        vertical-align: top;\n",
       "    }\n",
       "\n",
       "    .dataframe thead th {\n",
       "        text-align: right;\n",
       "    }\n",
       "</style>\n",
       "<table border=\"1\" class=\"dataframe\">\n",
       "  <thead>\n",
       "    <tr style=\"text-align: right;\">\n",
       "      <th></th>\n",
       "      <th>İsim</th>\n",
       "      <th>Soyad</th>\n",
       "      <th>Yaş</th>\n",
       "      <th>Şehir</th>\n",
       "      <th>Ülke</th>\n",
       "    </tr>\n",
       "  </thead>\n",
       "  <tbody>\n",
       "    <tr>\n",
       "      <th>0</th>\n",
       "      <td>Murat</td>\n",
       "      <td>Sakal</td>\n",
       "      <td>45</td>\n",
       "      <td>Muğla</td>\n",
       "      <td>Türkiye</td>\n",
       "    </tr>\n",
       "    <tr>\n",
       "      <th>1</th>\n",
       "      <td>Aslı</td>\n",
       "      <td>Sakal</td>\n",
       "      <td>37</td>\n",
       "      <td>Muğla</td>\n",
       "      <td>Türkiye</td>\n",
       "    </tr>\n",
       "    <tr>\n",
       "      <th>2</th>\n",
       "      <td>Mehmet</td>\n",
       "      <td>Mavi</td>\n",
       "      <td>bilinmiyor</td>\n",
       "      <td>NaN</td>\n",
       "      <td>Türkiye</td>\n",
       "    </tr>\n",
       "    <tr>\n",
       "      <th>3</th>\n",
       "      <td>Mert</td>\n",
       "      <td>Noyan</td>\n",
       "      <td>22</td>\n",
       "      <td>İzmir</td>\n",
       "      <td>Türkiye</td>\n",
       "    </tr>\n",
       "  </tbody>\n",
       "</table>\n",
       "</div>"
      ],
      "text/plain": [
       "     İsim  Soyad         Yaş  Şehir     Ülke\n",
       "0   Murat  Sakal          45  Muğla  Türkiye\n",
       "1    Aslı  Sakal          37  Muğla  Türkiye\n",
       "2  Mehmet   Mavi  bilinmiyor    NaN  Türkiye\n",
       "3    Mert  Noyan          22  İzmir  Türkiye"
      ]
     },
     "execution_count": 67,
     "metadata": {},
     "output_type": "execute_result"
    }
   ],
   "source": [
    "df.drop(labels=[\"GANO\"],axis=1)"
   ]
  },
  {
   "cell_type": "code",
   "execution_count": 100,
   "metadata": {},
   "outputs": [],
   "source": [
    "df_2=df.copy()"
   ]
  },
  {
   "cell_type": "code",
   "execution_count": 101,
   "metadata": {},
   "outputs": [
    {
     "data": {
      "text/html": [
       "<div>\n",
       "<style scoped>\n",
       "    .dataframe tbody tr th:only-of-type {\n",
       "        vertical-align: middle;\n",
       "    }\n",
       "\n",
       "    .dataframe tbody tr th {\n",
       "        vertical-align: top;\n",
       "    }\n",
       "\n",
       "    .dataframe thead th {\n",
       "        text-align: right;\n",
       "    }\n",
       "</style>\n",
       "<table border=\"1\" class=\"dataframe\">\n",
       "  <thead>\n",
       "    <tr style=\"text-align: right;\">\n",
       "      <th></th>\n",
       "      <th>İsim</th>\n",
       "      <th>Soyad</th>\n",
       "      <th>Yaş</th>\n",
       "      <th>Şehir</th>\n",
       "      <th>Ülke</th>\n",
       "    </tr>\n",
       "  </thead>\n",
       "  <tbody>\n",
       "    <tr>\n",
       "      <th>0</th>\n",
       "      <td>Murat</td>\n",
       "      <td>Sakal</td>\n",
       "      <td>45</td>\n",
       "      <td>Muğla</td>\n",
       "      <td>Türkiye</td>\n",
       "    </tr>\n",
       "    <tr>\n",
       "      <th>1</th>\n",
       "      <td>Aslı</td>\n",
       "      <td>Sakal</td>\n",
       "      <td>37</td>\n",
       "      <td>Muğla</td>\n",
       "      <td>Türkiye</td>\n",
       "    </tr>\n",
       "    <tr>\n",
       "      <th>2</th>\n",
       "      <td>Mehmet</td>\n",
       "      <td>Mavi</td>\n",
       "      <td>bilinmiyor</td>\n",
       "      <td>NaN</td>\n",
       "      <td>Türkiye</td>\n",
       "    </tr>\n",
       "    <tr>\n",
       "      <th>3</th>\n",
       "      <td>Mert</td>\n",
       "      <td>Noyan</td>\n",
       "      <td>37</td>\n",
       "      <td>İzmir</td>\n",
       "      <td>Türkiye</td>\n",
       "    </tr>\n",
       "  </tbody>\n",
       "</table>\n",
       "</div>"
      ],
      "text/plain": [
       "     İsim  Soyad         Yaş  Şehir     Ülke\n",
       "0   Murat  Sakal          45  Muğla  Türkiye\n",
       "1    Aslı  Sakal          37  Muğla  Türkiye\n",
       "2  Mehmet   Mavi  bilinmiyor    NaN  Türkiye\n",
       "3    Mert  Noyan          37  İzmir  Türkiye"
      ]
     },
     "execution_count": 101,
     "metadata": {},
     "output_type": "execute_result"
    }
   ],
   "source": [
    "df_2.drop(labels=[\"GANO\"],axis=1)"
   ]
  },
  {
   "cell_type": "code",
   "execution_count": 102,
   "metadata": {},
   "outputs": [],
   "source": [
    "df_2 = df.drop(labels=[\"GANO\", \"Ülke\"], axis=1)"
   ]
  },
  {
   "cell_type": "code",
   "execution_count": 103,
   "metadata": {},
   "outputs": [
    {
     "data": {
      "text/html": [
       "<div>\n",
       "<style scoped>\n",
       "    .dataframe tbody tr th:only-of-type {\n",
       "        vertical-align: middle;\n",
       "    }\n",
       "\n",
       "    .dataframe tbody tr th {\n",
       "        vertical-align: top;\n",
       "    }\n",
       "\n",
       "    .dataframe thead th {\n",
       "        text-align: right;\n",
       "    }\n",
       "</style>\n",
       "<table border=\"1\" class=\"dataframe\">\n",
       "  <thead>\n",
       "    <tr style=\"text-align: right;\">\n",
       "      <th></th>\n",
       "      <th>İsim</th>\n",
       "      <th>Soyad</th>\n",
       "      <th>Yaş</th>\n",
       "      <th>Şehir</th>\n",
       "    </tr>\n",
       "  </thead>\n",
       "  <tbody>\n",
       "    <tr>\n",
       "      <th>0</th>\n",
       "      <td>Murat</td>\n",
       "      <td>Sakal</td>\n",
       "      <td>45</td>\n",
       "      <td>Muğla</td>\n",
       "    </tr>\n",
       "    <tr>\n",
       "      <th>1</th>\n",
       "      <td>Aslı</td>\n",
       "      <td>Sakal</td>\n",
       "      <td>37</td>\n",
       "      <td>Muğla</td>\n",
       "    </tr>\n",
       "    <tr>\n",
       "      <th>2</th>\n",
       "      <td>Mehmet</td>\n",
       "      <td>Mavi</td>\n",
       "      <td>bilinmiyor</td>\n",
       "      <td>NaN</td>\n",
       "    </tr>\n",
       "    <tr>\n",
       "      <th>3</th>\n",
       "      <td>Mert</td>\n",
       "      <td>Noyan</td>\n",
       "      <td>37</td>\n",
       "      <td>İzmir</td>\n",
       "    </tr>\n",
       "  </tbody>\n",
       "</table>\n",
       "</div>"
      ],
      "text/plain": [
       "     İsim  Soyad         Yaş  Şehir\n",
       "0   Murat  Sakal          45  Muğla\n",
       "1    Aslı  Sakal          37  Muğla\n",
       "2  Mehmet   Mavi  bilinmiyor    NaN\n",
       "3    Mert  Noyan          37  İzmir"
      ]
     },
     "execution_count": 103,
     "metadata": {},
     "output_type": "execute_result"
    }
   ],
   "source": [
    "df_2"
   ]
  },
  {
   "cell_type": "code",
   "execution_count": 104,
   "metadata": {},
   "outputs": [],
   "source": [
    "df_2[\"Yaş\"].replace(\"bilinmiyor\", np.nan, inplace=True)"
   ]
  },
  {
   "cell_type": "code",
   "execution_count": 105,
   "metadata": {},
   "outputs": [
    {
     "data": {
      "text/html": [
       "<div>\n",
       "<style scoped>\n",
       "    .dataframe tbody tr th:only-of-type {\n",
       "        vertical-align: middle;\n",
       "    }\n",
       "\n",
       "    .dataframe tbody tr th {\n",
       "        vertical-align: top;\n",
       "    }\n",
       "\n",
       "    .dataframe thead th {\n",
       "        text-align: right;\n",
       "    }\n",
       "</style>\n",
       "<table border=\"1\" class=\"dataframe\">\n",
       "  <thead>\n",
       "    <tr style=\"text-align: right;\">\n",
       "      <th></th>\n",
       "      <th>İsim</th>\n",
       "      <th>Soyad</th>\n",
       "      <th>Yaş</th>\n",
       "      <th>Şehir</th>\n",
       "    </tr>\n",
       "  </thead>\n",
       "  <tbody>\n",
       "    <tr>\n",
       "      <th>0</th>\n",
       "      <td>Murat</td>\n",
       "      <td>Sakal</td>\n",
       "      <td>45.0</td>\n",
       "      <td>Muğla</td>\n",
       "    </tr>\n",
       "    <tr>\n",
       "      <th>1</th>\n",
       "      <td>Aslı</td>\n",
       "      <td>Sakal</td>\n",
       "      <td>37.0</td>\n",
       "      <td>Muğla</td>\n",
       "    </tr>\n",
       "    <tr>\n",
       "      <th>2</th>\n",
       "      <td>Mehmet</td>\n",
       "      <td>Mavi</td>\n",
       "      <td>NaN</td>\n",
       "      <td>NaN</td>\n",
       "    </tr>\n",
       "    <tr>\n",
       "      <th>3</th>\n",
       "      <td>Mert</td>\n",
       "      <td>Noyan</td>\n",
       "      <td>37.0</td>\n",
       "      <td>İzmir</td>\n",
       "    </tr>\n",
       "  </tbody>\n",
       "</table>\n",
       "</div>"
      ],
      "text/plain": [
       "     İsim  Soyad   Yaş  Şehir\n",
       "0   Murat  Sakal  45.0  Muğla\n",
       "1    Aslı  Sakal  37.0  Muğla\n",
       "2  Mehmet   Mavi   NaN    NaN\n",
       "3    Mert  Noyan  37.0  İzmir"
      ]
     },
     "execution_count": 105,
     "metadata": {},
     "output_type": "execute_result"
    }
   ],
   "source": [
    "df_2"
   ]
  },
  {
   "cell_type": "code",
   "execution_count": 81,
   "metadata": {},
   "outputs": [
    {
     "data": {
      "text/plain": [
       "31.5"
      ]
     },
     "execution_count": 81,
     "metadata": {},
     "output_type": "execute_result"
    }
   ],
   "source": [
    "df_2[\"Yaş\"].mean()"
   ]
  },
  {
   "cell_type": "code",
   "execution_count": 53,
   "metadata": {},
   "outputs": [],
   "source": [
    "import numpy as np\n",
    "from sklearn.impute import SimpleImputer"
   ]
  },
  {
   "cell_type": "code",
   "execution_count": 106,
   "metadata": {},
   "outputs": [],
   "source": [
    "imp_freq = SimpleImputer(missing_values=np.nan, strategy=\"most_frequent\")"
   ]
  },
  {
   "cell_type": "code",
   "execution_count": 107,
   "metadata": {},
   "outputs": [],
   "source": [
    "df_2[\"Yaş\"] = imp_freq.fit_transform(df_2[[\"Yaş\"]])"
   ]
  },
  {
   "cell_type": "code",
   "execution_count": 109,
   "metadata": {},
   "outputs": [
    {
     "data": {
      "text/html": [
       "<div>\n",
       "<style scoped>\n",
       "    .dataframe tbody tr th:only-of-type {\n",
       "        vertical-align: middle;\n",
       "    }\n",
       "\n",
       "    .dataframe tbody tr th {\n",
       "        vertical-align: top;\n",
       "    }\n",
       "\n",
       "    .dataframe thead th {\n",
       "        text-align: right;\n",
       "    }\n",
       "</style>\n",
       "<table border=\"1\" class=\"dataframe\">\n",
       "  <thead>\n",
       "    <tr style=\"text-align: right;\">\n",
       "      <th></th>\n",
       "      <th>İsim</th>\n",
       "      <th>Soyad</th>\n",
       "      <th>Yaş</th>\n",
       "      <th>Şehir</th>\n",
       "    </tr>\n",
       "  </thead>\n",
       "  <tbody>\n",
       "    <tr>\n",
       "      <th>0</th>\n",
       "      <td>Murat</td>\n",
       "      <td>Sakal</td>\n",
       "      <td>45.0</td>\n",
       "      <td>Muğla</td>\n",
       "    </tr>\n",
       "    <tr>\n",
       "      <th>1</th>\n",
       "      <td>Aslı</td>\n",
       "      <td>Sakal</td>\n",
       "      <td>37.0</td>\n",
       "      <td>Muğla</td>\n",
       "    </tr>\n",
       "    <tr>\n",
       "      <th>2</th>\n",
       "      <td>Mehmet</td>\n",
       "      <td>Mavi</td>\n",
       "      <td>37.0</td>\n",
       "      <td>NaN</td>\n",
       "    </tr>\n",
       "    <tr>\n",
       "      <th>3</th>\n",
       "      <td>Mert</td>\n",
       "      <td>Noyan</td>\n",
       "      <td>37.0</td>\n",
       "      <td>İzmir</td>\n",
       "    </tr>\n",
       "  </tbody>\n",
       "</table>\n",
       "</div>"
      ],
      "text/plain": [
       "     İsim  Soyad   Yaş  Şehir\n",
       "0   Murat  Sakal  45.0  Muğla\n",
       "1    Aslı  Sakal  37.0  Muğla\n",
       "2  Mehmet   Mavi  37.0    NaN\n",
       "3    Mert  Noyan  37.0  İzmir"
      ]
     },
     "execution_count": 109,
     "metadata": {},
     "output_type": "execute_result"
    }
   ],
   "source": [
    "df_2"
   ]
  },
  {
   "cell_type": "code",
   "execution_count": null,
   "metadata": {},
   "outputs": [],
   "source": [
    "df_2[\"Şehir\"].replace(\"bilinmiyor\", np.nan, inplace=True)"
   ]
  }
 ],
 "metadata": {
  "kernelspec": {
   "display_name": "Python 3",
   "language": "python",
   "name": "python3"
  },
  "language_info": {
   "codemirror_mode": {
    "name": "ipython",
    "version": 3
   },
   "file_extension": ".py",
   "mimetype": "text/x-python",
   "name": "python",
   "nbconvert_exporter": "python",
   "pygments_lexer": "ipython3",
   "version": "3.7.6"
  }
 },
 "nbformat": 4,
 "nbformat_minor": 2
}
